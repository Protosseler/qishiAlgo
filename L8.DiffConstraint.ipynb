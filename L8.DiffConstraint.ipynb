{
 "cells": [
  {
   "cell_type": "markdown",
   "metadata": {},
   "source": [
    "Honeslty I did not follow the theorem. Maybe just remember SPFA, if you want to do competitive programming.\n",
    "\n",
    "\n",
    "procedure Shortest-Path-Faster-Algorithm(G, s):\n",
    "    \n",
    "    for each vertex v ≠ s in V(G)\n",
    "    d(v) := ∞\n",
    "    d(s) := 0\n",
    "    push s into Q\n",
    "    while Q is not empty do\n",
    "        u := poll Q\n",
    "        for each edge (u, v) in E(G) do\n",
    "            if d(u) + w(u, v) < d(v) then\n",
    "                d(v) := d(u) + w(u, v)\n",
    "                if v is not in Q then\n",
    "                    push v into Q"
   ]
  },
  {
   "cell_type": "code",
   "execution_count": 1,
   "metadata": {},
   "outputs": [],
   "source": [
    "def shortestPathFaster(S, V): \n",
    "  \n",
    "    # Create array d to store shortest distance \n",
    "    d = [10**9]*(V + 1) \n",
    "  \n",
    "    # Boolean array to check if vertex \n",
    "    # is present in queue or not \n",
    "    inQueue = [False]*(V + 1) \n",
    "  \n",
    "    d[S] = 0\n",
    "  \n",
    "    q = deque() \n",
    "    q.append(S) \n",
    "    inQueue[S] = True\n",
    "  \n",
    "    while (len(q) > 0): \n",
    "  \n",
    "        # Take the front vertex from Queue \n",
    "        u = q.popleft() \n",
    "        inQueue[u] = False\n",
    "  \n",
    "        # Relaxing all the adjacent edges of \n",
    "        # vertex taken from the Queue \n",
    "        for i in range(len(graph[u])): \n",
    "  \n",
    "            v = graph[u][i][0] \n",
    "            weight = graph[u][i][1] \n",
    "  \n",
    "            if (d[v] > d[u] + weight): \n",
    "                d[v] = d[u] + weight \n",
    "  \n",
    "                # Check if vertex v is in Queue or not \n",
    "                # if not then append it into the Queue \n",
    "                if (inQueue[v] == False): \n",
    "                    q.append(v) \n",
    "                    inQueue[v] = True"
   ]
  },
  {
   "cell_type": "code",
   "execution_count": null,
   "metadata": {},
   "outputs": [],
   "source": []
  }
 ],
 "metadata": {
  "kernelspec": {
   "display_name": "Python 3",
   "language": "python",
   "name": "python3"
  },
  "language_info": {
   "codemirror_mode": {
    "name": "ipython",
    "version": 3
   },
   "file_extension": ".py",
   "mimetype": "text/x-python",
   "name": "python",
   "nbconvert_exporter": "python",
   "pygments_lexer": "ipython3",
   "version": "3.8.5"
  }
 },
 "nbformat": 4,
 "nbformat_minor": 4
}
