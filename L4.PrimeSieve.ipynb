{
 "cells": [
  {
   "cell_type": "code",
   "execution_count": 1,
   "metadata": {},
   "outputs": [],
   "source": [
    "import math\n",
    "import time"
   ]
  },
  {
   "cell_type": "code",
   "execution_count": 2,
   "metadata": {},
   "outputs": [],
   "source": [
    "def regular_sieve(n: int)->list:\n",
    "    primes = []\n",
    "    sieve = [True] * (n + 1)\n",
    "    p = 2\n",
    "    while (p * p <= n):\n",
    "        if (sieve[p]): \n",
    "            for i in range(p * p, n + 1, p): \n",
    "                sieve[i] = False\n",
    "        p += 1\n",
    "    for p in range(2, n): \n",
    "        if sieve[p]:\n",
    "            primes.append(p)\n",
    "    return primes\n",
    "\n",
    "def segmented_sieve(n: int)->list:\n",
    "\n",
    "    delta = int(math.floor(math.sqrt(n)) + 1)\n",
    "    primes = regular_sieve(delta)\n",
    "    sieve = [True] * (n + 1)\n",
    "    \n",
    "    for p in primes:\n",
    "        for j in range(p + 1, n + 1, p):\n",
    "            sieve[j - delta] = False\n",
    "            \n",
    "    for i in range(delta, n + 1):\n",
    "        if sieve[i - delta]:\n",
    "            primes.append(i)      \n",
    "            \n",
    "    return primes"
   ]
  },
  {
   "cell_type": "code",
   "execution_count": 3,
   "metadata": {},
   "outputs": [
    {
     "name": "stdout",
     "output_type": "stream",
     "text": [
      "0.15777826309204102\n"
     ]
    }
   ],
   "source": [
    "t1 = time.time()\n",
    "regular_sieve(10**6)\n",
    "t2 = time.time()\n",
    "print(t2-t1)"
   ]
  },
  {
   "cell_type": "code",
   "execution_count": 4,
   "metadata": {},
   "outputs": [
    {
     "name": "stdout",
     "output_type": "stream",
     "text": [
      "0.21640872955322266\n"
     ]
    }
   ],
   "source": [
    "#### Why segmented is slower????\n",
    "t1 = time.time()\n",
    "segmented_sieve(10**6)\n",
    "t2 = time.time()\n",
    "print(t2-t1)"
   ]
  },
  {
   "cell_type": "code",
   "execution_count": 5,
   "metadata": {},
   "outputs": [],
   "source": [
    "def euler_sieve(n: int) -> list:\n",
    "    size = n // 2\n",
    "    sieve = [True] * size\n",
    "    limit = int(n**0.5)\n",
    "    for i in range(1, limit):\n",
    "        if sieve[i]:\n",
    "            val = 2*i+1\n",
    "            tmp = ((size - 1) - i) // val \n",
    "            sieve[i + val::val] = [False]*tmp\n",
    "    return [2] + [2*i+1 for i in range(1, size) if sieve[i]]"
   ]
  },
  {
   "cell_type": "code",
   "execution_count": 6,
   "metadata": {},
   "outputs": [
    {
     "name": "stdout",
     "output_type": "stream",
     "text": [
      "0.041346073150634766\n"
     ]
    }
   ],
   "source": [
    "t1 = time.time()\n",
    "euler_sieve(10**6)\n",
    "t2 = time.time()\n",
    "print(t2-t1)"
   ]
  }
 ],
 "metadata": {
  "kernelspec": {
   "display_name": "Python 3",
   "language": "python",
   "name": "python3"
  },
  "language_info": {
   "codemirror_mode": {
    "name": "ipython",
    "version": 3
   },
   "file_extension": ".py",
   "mimetype": "text/x-python",
   "name": "python",
   "nbconvert_exporter": "python",
   "pygments_lexer": "ipython3",
   "version": "3.8.5"
  }
 },
 "nbformat": 4,
 "nbformat_minor": 4
}
