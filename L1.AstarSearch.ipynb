{
 "cells": [
  {
   "cell_type": "markdown",
   "metadata": {},
   "source": [
    "Astar pseudo code can be found on wiki. \n",
    "\n",
    "In my implementation, instead of using an openset, I used an opendict to store the visited vertices and its fscores."
   ]
  },
  {
   "cell_type": "code",
   "execution_count": 1,
   "metadata": {},
   "outputs": [],
   "source": [
    "class Vertex:\n",
    "    \n",
    "    def __init__(self, node):\n",
    "        self.id = node\n",
    "        self.adjacent = {}\n",
    "        \n",
    "    def add_neighbor(self, neighbor, weight = 0):\n",
    "        self.adjacent[neighbor] = weight\n",
    "        \n",
    "    def get_neighbors(self):\n",
    "        return list(self.adjacent.keys())\n",
    "    \n",
    "    def get_id(self):\n",
    "        return self.id\n",
    "    \n",
    "    def get_weight(self, neighbor):\n",
    "        return self.adjacent[neighbor]\n",
    "    \n",
    "class NDgraph:\n",
    "    \n",
    "    def __init__(self):\n",
    "        self.vertices = {}\n",
    "        self.num_vert = 0\n",
    "        \n",
    "    def iter(self):\n",
    "        return iter(self.vertices.values())\n",
    "    \n",
    "    def add_vertex(self, nodeid):\n",
    "        self.vertices[nodeid] = Vertex(nodeid)\n",
    "        self.num_vert += 1\n",
    "        \n",
    "    def get_vertex(self, nodeid):\n",
    "        if nodeid in self.vertices:\n",
    "            return self.vertices[nodeid]\n",
    "        return None\n",
    "    \n",
    "    def get_vertices(self):\n",
    "        return list(self.vertices.keys())\n",
    "    \n",
    "    def add_edge(self, fromid, toid, weight):\n",
    "        if fromid not in self.vertices:\n",
    "            self.add_vertex(fromid)\n",
    "        if toid not in self.vertices:\n",
    "            self.add_vertex(toid)\n",
    "            \n",
    "        self.vertices[fromid].add_neighbor(toid, weight)\n",
    "        self.vertices[toid].add_neighbor(fromid, weight)\n",
    "    \n",
    "    def get_edge(self, fromid, toid):\n",
    "        WRONG = -1\n",
    "        if not self.get_vertex(fromid) or not self.get_vertex(toid):\n",
    "            return WRONG\n",
    "        return self.vertices[fromid].adjacent.get(toid, WRONG)\n"
   ]
  },
  {
   "cell_type": "code",
   "execution_count": 2,
   "metadata": {},
   "outputs": [],
   "source": [
    "input_graph = NDgraph()\n",
    "input_graph.add_vertex('A')\n",
    "input_graph.add_vertex('B')\n",
    "input_graph.add_vertex('C')\n",
    "input_graph.add_vertex('D')\n",
    "input_graph.add_vertex('E')\n",
    "input_graph.add_vertex('F')\n",
    "input_graph.add_vertex('G')\n",
    "input_graph.add_vertex('H')\n",
    "input_graph.add_vertex('I')\n",
    "input_graph.add_vertex('J')\n",
    "\n",
    "input_graph.add_edge('A', 'B', 6)\n",
    "input_graph.add_edge('A', 'F', 3)\n",
    "input_graph.add_edge('B', 'C', 3)\n",
    "input_graph.add_edge('B', 'D', 2)\n",
    "input_graph.add_edge('C', 'D', 1)\n",
    "input_graph.add_edge('C', 'E', 5)\n",
    "input_graph.add_edge('D', 'E', 8)\n",
    "input_graph.add_edge('E', 'I', 5)\n",
    "input_graph.add_edge('E', 'J', 5)\n",
    "input_graph.add_edge('F', 'G', 1)\n",
    "input_graph.add_edge('F', 'H', 7)\n",
    "input_graph.add_edge('G', 'I', 3)\n",
    "input_graph.add_edge('H', 'I', 2)\n",
    "input_graph.add_edge('I', 'J', 3)\n",
    "\n",
    "heuristic = {'A': 10, 'B': 6, 'C': 5, 'D': 7, 'E': 3, 'F': 6, 'G': 5, 'H':3, 'I': 1, 'J': 0}"
   ]
  },
  {
   "cell_type": "code",
   "execution_count": 3,
   "metadata": {},
   "outputs": [],
   "source": [
    "def Astar(graph: NDgraph, source, target, h: dict):\n",
    "    \"\"\"\n",
    "    A* search algo to find the shortest path from source to target in a graph, return path and distance.\n",
    "    \"\"\"\n",
    "    \n",
    "    opendict = {source: h[source]} #since python does not support modifying heap values on fly, we use dict instead.\n",
    "    \n",
    "    camefrom = {}\n",
    "    gscore = {nodeid: float('inf') for nodeid in graph.get_vertices()}\n",
    "    gscore[source] = 0\n",
    "    \n",
    "    fscore = {nodeid: float('inf') for nodeid in graph.get_vertices()}\n",
    "    fscore[source] = h[source]\n",
    "    \n",
    "    while len(opendict):\n",
    "        curr = min(opendict, key = opendict.get)\n",
    "        \n",
    "        if curr == target:\n",
    "            return construct_path(graph, target, source, camefrom)\n",
    "        \n",
    "#         print(opendict, curr)\n",
    "        del opendict[curr]\n",
    "        \n",
    "        for neighbor in graph.vertices[curr].get_neighbors():\n",
    "            temp_gscore = gscore[curr] + graph.get_edge(curr, neighbor)\n",
    "#             print(neighbor, temp_gscore, gscore[neighbor])\n",
    "            if temp_gscore < gscore[neighbor]:\n",
    "                camefrom[neighbor] = curr\n",
    "                gscore[neighbor] = temp_gscore\n",
    "                fscore[neighbor] = gscore[neighbor] + h[neighbor]\n",
    "                opendict[neighbor] = fscore[neighbor]\n",
    "                    \n",
    "    return False\n",
    "        \n",
    "def construct_path(graph, target, source, camefrom):\n",
    "    total_dist = 0\n",
    "    path = []\n",
    "    curr = target\n",
    "    while curr != source:\n",
    "        temp = camefrom[curr]\n",
    "        total_dist += graph.get_edge(curr, temp)\n",
    "        path.append(temp)\n",
    "        curr = temp\n",
    "    return total_dist, path[::-1] + [target]"
   ]
  },
  {
   "cell_type": "code",
   "execution_count": 5,
   "metadata": {},
   "outputs": [
    {
     "data": {
      "text/plain": [
       "(10, ['A', 'F', 'G', 'I', 'J'])"
      ]
     },
     "execution_count": 5,
     "metadata": {},
     "output_type": "execute_result"
    }
   ],
   "source": [
    "Astar(input_graph, 'A', 'J', heuristic)"
   ]
  },
  {
   "cell_type": "code",
   "execution_count": null,
   "metadata": {},
   "outputs": [],
   "source": []
  }
 ],
 "metadata": {
  "kernelspec": {
   "display_name": "Python 3",
   "language": "python",
   "name": "python3"
  },
  "language_info": {
   "codemirror_mode": {
    "name": "ipython",
    "version": 3
   },
   "file_extension": ".py",
   "mimetype": "text/x-python",
   "name": "python",
   "nbconvert_exporter": "python",
   "pygments_lexer": "ipython3",
   "version": "3.8.3"
  }
 },
 "nbformat": 4,
 "nbformat_minor": 4
}
