{
 "cells": [
  {
   "cell_type": "markdown",
   "metadata": {},
   "source": [
    "## Leetcode 743"
   ]
  },
  {
   "cell_type": "markdown",
   "metadata": {},
   "source": [
    "// Pseudo code for Bellman-Ford algo.\n",
    "\n",
    "function BellmanFord (list vertices, list edges, vertex source) is\n",
    "\n",
    "    ::distance[], predecessor[]\n",
    "\n",
    "    // This implementation takes in a graph, represented as\n",
    "    // lists of vertices and edges, and fills two arrays\n",
    "    // (distance and predecessor) about the shortest path\n",
    "    // from the source to each vertex\n",
    "\n",
    "    // Step 1: initialize graph\n",
    "    for each vertex v in vertices do\n",
    "        distance[v] := inf             // Initialize the distance to all vertices to infinity\n",
    "        predecessor[v] := null         // And having a null predecessor\n",
    "    \n",
    "    distance[source] := 0              // The distance from the source to itself is zero\n",
    "\n",
    "    // Step 2: relax edges repeatedly\n",
    "    for i from 1 to size(vertices)−1 do // Just |V|−1 repetitions; i is never referenced\n",
    "        for each edge (u, v) with weight w in edges do\n",
    "            if distance[u] + w < distance[v] then\n",
    "                distance[v] := distance[u] + w\n",
    "                predecessor[v] := u\n",
    "\n",
    "    // Step 3: check for negative-weight cycles\n",
    "    for each edge (u, v) with weight w in edges do\n",
    "        if distance[u] + w < distance[v] then\n",
    "            error \"Graph contains a negative-weight cycle\"\n",
    "\n",
    "    return distance[], predecessor[]"
   ]
  },
  {
   "cell_type": "code",
   "execution_count": 8,
   "metadata": {},
   "outputs": [],
   "source": [
    "def networkDelayTime(self, times, N: int, K: int) -> int:\n",
    "        distance = [float('inf')] * (N+1)\n",
    "        # predecessor = [None] * (N+1)\n",
    "        \n",
    "        distance[K] = 0\n",
    "        \n",
    "        for _ in range(N-1):\n",
    "            for u, v, w in times:\n",
    "                if distance[u] + w < distance[v]:\n",
    "                    distance[v] = distance[u] + w\n",
    "                    # predecessor[v] = u\n",
    "                    \n",
    "        # #check for negative weight            \n",
    "        # for u, v, w in times:\n",
    "        #     if distance[u] + w < distance[v]:\n",
    "        #         raise ValueError\n",
    "                \n",
    "        return max(distance[1:]) if max(distance[1:]) < float('inf') else -1"
   ]
  },
  {
   "cell_type": "markdown",
   "metadata": {},
   "source": [
    "In fact this problem can be done with simple Dijkstra. Alternatively we can use bfs or dfs, to avoid reaching worst case (that is, visit all edges) everytime."
   ]
  },
  {
   "cell_type": "code",
   "execution_count": 9,
   "metadata": {},
   "outputs": [],
   "source": [
    "def networkDelayTime(self, times, N: int, K: int) -> int:\n",
    "        graph = collections.defaultdict(list)\n",
    "        for u, v, w in times:\n",
    "            graph[u].append((w, v))\n",
    "            \n",
    "        distance = {u: float('inf') for u in range(1, N + 1)}\n",
    "        \n",
    "        def dfs(vertex, elapsed):\n",
    "            if elapsed >= distance[vertex]:\n",
    "                return\n",
    "            distance[vertex] = elapsed\n",
    "            for time, neighbor in sorted(graph[vertex]):\n",
    "                dfs(neighbor, elapsed + time)\n",
    "                \n",
    "        dfs(K, 0)\n",
    "        ans = max(distance.values())\n",
    "        \n",
    "        return ans if ans < float('inf') else -1"
   ]
  },
  {
   "cell_type": "markdown",
   "metadata": {},
   "source": [
    "Note that we do sort in each dfs call, which is costly. Can use heap to improve."
   ]
  },
  {
   "cell_type": "code",
   "execution_count": 10,
   "metadata": {},
   "outputs": [],
   "source": [
    "import heapq\n",
    "def networkDelayTime(self, times, N: int, K: int) -> int:\n",
    "    graph = collections.defaultdict(list)\n",
    "    for u, v, w in times:\n",
    "        graph[u].append((v, w))\n",
    "\n",
    "    q = [(0, K)]\n",
    "    distance = {}\n",
    "    while q:\n",
    "        d, vert = heapq.heappop(q)\n",
    "        if vert in distance:\n",
    "            continue\n",
    "        distance[vert] = d\n",
    "        for n, w in graph[vert]:\n",
    "            if n in distance:\n",
    "                continue\n",
    "            heapq.heappush(q, (d+w, n))\n",
    "\n",
    "    return max(distance.values()) if len(distance) == N else -1"
   ]
  },
  {
   "cell_type": "markdown",
   "metadata": {},
   "source": [
    "## Leetcode 787"
   ]
  },
  {
   "cell_type": "markdown",
   "metadata": {},
   "source": [
    "BFS might be the easiest solution."
   ]
  },
  {
   "cell_type": "code",
   "execution_count": 11,
   "metadata": {},
   "outputs": [],
   "source": [
    "import heapq, collections\n",
    "def findCheapestPrice(self, n: int, flights, src: int, dst: int, K: int) -> int:\n",
    "    graph = collections.defaultdict(list)\n",
    "    for u, v, w in flights:\n",
    "        graph[u].append((v, w))\n",
    "\n",
    "    visited = {}  \n",
    "    q = collections.deque([(src, 0)])\n",
    "    visited[src] = 0\n",
    "\n",
    "    # print(graph, q)  \n",
    "\n",
    "    stop = 0\n",
    "    while q and stop <= K:\n",
    "        size = len(q)\n",
    "        temp = visited\n",
    "        for _ in range(size):\n",
    "            vert, price = q.popleft()\n",
    "            for neighbor, next_price in graph[vert]:\n",
    "                # print(vert, neighbor, q, stop)\n",
    "                if neighbor in visited and price + next_price >= visited[neighbor]:\n",
    "                    continue\n",
    "                q.append((neighbor, next_price + price))\n",
    "                temp[neighbor] = next_price + price\n",
    "        stop += 1\n",
    "        visited = temp\n",
    "        # print(visited)\n",
    "    return visited[dst] if dst in visited.keys() else -1        "
   ]
  },
  {
   "cell_type": "markdown",
   "metadata": {},
   "source": [
    "No harm to try Dijkstra though."
   ]
  },
  {
   "cell_type": "code",
   "execution_count": 12,
   "metadata": {},
   "outputs": [],
   "source": [
    "import heapq, collections\n",
    "def findCheapestPrice(self, n: int, flights, src: int, dst: int, K: int) -> int:\n",
    "    graph = collections.defaultdict(list)\n",
    "    for u, v, w in flights:\n",
    "        graph[u].append((v, w))\n",
    "\n",
    "    dist = [float('inf')] * n\n",
    "    currstop = [0] * n\n",
    "    dist[src] = 0\n",
    "    currstop[src] = 0\n",
    "\n",
    "    myheap = [(0, 0, src)]\n",
    "    while myheap:\n",
    "        cost, stop, vert = heapq.heappop(myheap)\n",
    "        if vert == dst:\n",
    "            return cost\n",
    "        if stop > K:\n",
    "            continue\n",
    "\n",
    "        for neighbor, price in graph[vert]:\n",
    "            if cost + price < dist[neighbor]:\n",
    "                dist[neighbor] = cost + price\n",
    "            elif stop < currstop[neighbor]:\n",
    "                currstop[neighbor] = stop\n",
    "            heapq.heappush(myheap, (cost + price, stop + 1, neighbor))\n",
    "\n",
    "    return dist[dst] if dist[dst] != float('inf') else -1"
   ]
  },
  {
   "cell_type": "code",
   "execution_count": null,
   "metadata": {},
   "outputs": [],
   "source": []
  }
 ],
 "metadata": {
  "kernelspec": {
   "display_name": "Python 3",
   "language": "python",
   "name": "python3"
  },
  "language_info": {
   "codemirror_mode": {
    "name": "ipython",
    "version": 3
   },
   "file_extension": ".py",
   "mimetype": "text/x-python",
   "name": "python",
   "nbconvert_exporter": "python",
   "pygments_lexer": "ipython3",
   "version": "3.8.5"
  }
 },
 "nbformat": 4,
 "nbformat_minor": 4
}
