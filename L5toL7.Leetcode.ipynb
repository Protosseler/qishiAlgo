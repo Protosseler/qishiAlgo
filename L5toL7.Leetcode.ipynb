{
 "cells": [
  {
   "cell_type": "markdown",
   "metadata": {},
   "source": [
    "L5 KMP algorithm\n",
    "\n",
    "It is not ez to remember anyway. Rabin-Karp is much more practical to implement during interviews."
   ]
  },
  {
   "cell_type": "code",
   "execution_count": 1,
   "metadata": {},
   "outputs": [],
   "source": [
    "#LC 214\n",
    "def shortestPalindrome(self, s: str) -> str:\n",
    "        \n",
    "    l = s + '#' + s[::-1]\n",
    "    pmt = [0] * len(l)\n",
    "    for i in range(1, len(l)):\n",
    "        t = pmt[i-1]\n",
    "        while t > 0 and l[i] != l[t]:\n",
    "            t = pmt[t-1]\n",
    "        if l[i] == l[t]:\n",
    "            t += 1\n",
    "        pmt[i] = t\n",
    "\n",
    "    print(pmt, l)\n",
    "    return s[len(s):pmt[-1]-1:-1] + s"
   ]
  },
  {
   "cell_type": "code",
   "execution_count": 2,
   "metadata": {},
   "outputs": [],
   "source": [
    "#LC 1392\n",
    "def longestPrefix(self, s: str) -> str:\n",
    "    size = len(s)\n",
    "    pmt = [0] * size\n",
    "    for i in range(1, size):\n",
    "        j = pmt[i-1]\n",
    "        while j and s[i] != s[j]:\n",
    "            j = pmt[j-1]\n",
    "        if s[i] == s[j]:\n",
    "            j += 1\n",
    "        pmt[i] = j\n",
    "\n",
    "    return s[:pmt[-1]]"
   ]
  },
  {
   "cell_type": "markdown",
   "metadata": {},
   "source": [
    "L6 Bit manipulation"
   ]
  },
  {
   "cell_type": "code",
   "execution_count": 4,
   "metadata": {},
   "outputs": [],
   "source": [
    "#LC 338\n",
    "def countBits(self, num: int):\n",
    "    res = [0] * (num + 1)\n",
    "    curr = 0\n",
    "    bound = 1\n",
    "    while bound <= num:\n",
    "        while curr < bound and curr + bound <= num:\n",
    "            res[curr + bound] = res[curr] + 1\n",
    "            curr += 1\n",
    "        curr = 0\n",
    "        bound <<= 1\n",
    "    return res"
   ]
  },
  {
   "cell_type": "code",
   "execution_count": 9,
   "metadata": {},
   "outputs": [],
   "source": [
    "#LC 477\n",
    "def totalHammingDistance(self, nums: list) -> int:\n",
    "    return sum((b.count('0') * b.count('1')) for b in zip(*map('{:032b}'.format, nums)))"
   ]
  },
  {
   "cell_type": "markdown",
   "metadata": {},
   "source": [
    "L7 Segment and Binary Indexed Tree"
   ]
  },
  {
   "cell_type": "code",
   "execution_count": 10,
   "metadata": {},
   "outputs": [],
   "source": [
    "#LC 315\n",
    "def countSmaller(self, nums: list) -> list:\n",
    "    ### here the index in BIT represents rank, the prefix sum is then how many elements smaller than certain rank have appeared \n",
    "    def update(bit, idx, val):\n",
    "        while idx < len(bit):\n",
    "            bit[idx] += val\n",
    "            idx += idx & (-idx)\n",
    "\n",
    "    def query(bit, idx):\n",
    "        res = 0\n",
    "        while idx > 0:\n",
    "            res += bit[idx]\n",
    "            idx -= idx & (-idx)\n",
    "\n",
    "        return res\n",
    "\n",
    "    rank, n, res = {val: i + 1 for i, val in enumerate(sorted(nums))}, len(nums), []\n",
    "    bit = [0] * (n + 1)\n",
    "    for i in reversed(nums):\n",
    "        res.append(query(bit, rank[i] - 1))\n",
    "        update(bit, rank[i], 1)\n",
    "\n",
    "    return res[::-1]"
   ]
  },
  {
   "cell_type": "code",
   "execution_count": 12,
   "metadata": {},
   "outputs": [],
   "source": [
    "#LC 327\n",
    "def countRangeSum(self, nums: list, lower: int, upper: int) -> int:\n",
    "    ### here BIT index i represents the number of range sums at least i    \n",
    "    def update(bit, idx, val):\n",
    "        while idx < len(bit):\n",
    "            bit[idx] += val\n",
    "            idx += idx & (-idx)\n",
    "\n",
    "    def query(bit, idx):\n",
    "        res = 0\n",
    "        while idx > 0:\n",
    "            res += bit[idx]\n",
    "            idx -= idx &(-idx)\n",
    "\n",
    "        return res\n",
    "\n",
    "    prefix = [0] * (len(nums) + 1)\n",
    "    bit = [0] * (len(prefix) + 1)\n",
    "    for i in range(len(nums)):\n",
    "        prefix[i+1] += prefix[i] + nums[i]\n",
    "\n",
    "    sorted_pre = sorted(prefix)\n",
    "    res = 0\n",
    "    for p in prefix:\n",
    "        res += query(bit, bisect.bisect_right(sorted_pre, p - lower)) - query(bit, bisect.bisect_left(sorted_pre, p - upper))\n",
    "        update(bit, bisect.bisect_left(sorted_pre, p)+1, 1)\n",
    "\n",
    "    return res"
   ]
  },
  {
   "cell_type": "code",
   "execution_count": null,
   "metadata": {},
   "outputs": [],
   "source": []
  }
 ],
 "metadata": {
  "kernelspec": {
   "display_name": "Python 3",
   "language": "python",
   "name": "python3"
  },
  "language_info": {
   "codemirror_mode": {
    "name": "ipython",
    "version": 3
   },
   "file_extension": ".py",
   "mimetype": "text/x-python",
   "name": "python",
   "nbconvert_exporter": "python",
   "pygments_lexer": "ipython3",
   "version": "3.8.5"
  }
 },
 "nbformat": 4,
 "nbformat_minor": 4
}
